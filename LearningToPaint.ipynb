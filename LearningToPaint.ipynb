{
  "nbformat": 4,
  "nbformat_minor": 0,
  "metadata": {
    "colab": {
      "name": "learningtopaint.ipynb",
      "version": "0.3.2",
      "provenance": [],
      "include_colab_link": true
    },
    "kernelspec": {
      "name": "python3",
      "display_name": "Python 3"
    },
    "accelerator": "TPU"
  },
  "cells": [
    {
      "cell_type": "markdown",
      "metadata": {
        "id": "view-in-github",
        "colab_type": "text"
      },
      "source": [
        "<a href=\"https://colab.research.google.com/github/hzwer/LearningToPaint/blob/master/LearningToPaint.ipynb\" target=\"_parent\"><img src=\"https://colab.research.google.com/assets/colab-badge.svg\" alt=\"Open In Colab\"/></a>"
      ]
    },
    {
      "metadata": {
        "id": "TFN3oT1Hkjfs",
        "colab_type": "code",
        "colab": {
          "base_uri": "https://localhost:8080/",
          "height": 140
        },
        "outputId": "55ddfb5b-7fef-4071-c188-6250de8c9189"
      },
      "cell_type": "code",
      "source": [
        "!git clone https://github.com/hzwer/LearningToPaint.git"
      ],
      "execution_count": 4,
      "outputs": [
        {
          "output_type": "stream",
          "text": [
            "Cloning into 'LearningToPaint'...\n",
            "remote: Enumerating objects: 10, done.\u001b[K\n",
            "remote: Counting objects: 100% (10/10), done.\u001b[K\n",
            "remote: Compressing objects: 100% (9/9), done.\u001b[K\n",
            "remote: Total 280 (delta 2), reused 6 (delta 1), pack-reused 270\u001b[K\n",
            "Receiving objects: 100% (280/280), 7.07 MiB | 16.48 MiB/s, done.\n",
            "Resolving deltas: 100% (126/126), done.\n"
          ],
          "name": "stdout"
        }
      ]
    },
    {
      "metadata": {
        "id": "Dp7N29tGkwQs",
        "colab_type": "code",
        "colab": {
          "base_uri": "https://localhost:8080/",
          "height": 34
        },
        "outputId": "d1714c14-5c39-4592-d199-108ef3205edc"
      },
      "cell_type": "code",
      "source": [
        "cd LearningToPaint/"
      ],
      "execution_count": 5,
      "outputs": [
        {
          "output_type": "stream",
          "text": [
            "/content/LearningToPaint\n"
          ],
          "name": "stdout"
        }
      ]
    },
    {
      "metadata": {
        "id": "QqPGwCekPMlu",
        "colab_type": "code",
        "colab": {
          "base_uri": "https://localhost:8080/",
          "height": 34
        },
        "outputId": "2a2e96fb-5365-4ce9-8c97-b94351be7747"
      },
      "cell_type": "code",
      "source": [
        "ls"
      ],
      "execution_count": 6,
      "outputs": [
        {
          "output_type": "stream",
          "text": [
            "\u001b[0m\u001b[01;34mbaseline\u001b[0m/  \u001b[01;34mimage\u001b[0m/  LearningToPaint.ipynb  README.md\n"
          ],
          "name": "stdout"
        }
      ]
    },
    {
      "metadata": {
        "id": "qTbhmFyawzhO",
        "colab_type": "text"
      },
      "cell_type": "markdown",
      "source": [
        "Testing "
      ]
    },
    {
      "metadata": {
        "id": "z0wTTzOEbvps",
        "colab_type": "code",
        "colab": {
          "base_uri": "https://localhost:8080/",
          "height": 336
        },
        "outputId": "ded467cd-3c18-4411-c28d-039cee0bd444"
      },
      "cell_type": "code",
      "source": [
        "!wget \"https://drive.google.com/uc?export=download&id=1-7dVdjCIZIxh8hHJnGTK-RA1-jL1tor4\" -O renderer.pkl"
      ],
      "execution_count": 7,
      "outputs": [
        {
          "output_type": "stream",
          "text": [
            "--2019-04-18 05:04:48--  https://drive.google.com/uc?export=download&id=1-7dVdjCIZIxh8hHJnGTK-RA1-jL1tor4\n",
            "Resolving drive.google.com (drive.google.com)... 172.217.212.102, 172.217.212.113, 172.217.212.138, ...\n",
            "Connecting to drive.google.com (drive.google.com)|172.217.212.102|:443... connected.\n",
            "HTTP request sent, awaiting response... 302 Moved Temporarily\n",
            "Location: https://doc-0o-58-docs.googleusercontent.com/docs/securesc/ha0ro937gcuc7l7deffksulhg5h7mbp1/s3la43su8692t84vhc7tv29cmv45pm5e/1555560000000/10102393604162075786/*/1-7dVdjCIZIxh8hHJnGTK-RA1-jL1tor4?e=download [following]\n",
            "Warning: wildcards not supported in HTTP.\n",
            "--2019-04-18 05:04:50--  https://doc-0o-58-docs.googleusercontent.com/docs/securesc/ha0ro937gcuc7l7deffksulhg5h7mbp1/s3la43su8692t84vhc7tv29cmv45pm5e/1555560000000/10102393604162075786/*/1-7dVdjCIZIxh8hHJnGTK-RA1-jL1tor4?e=download\n",
            "Resolving doc-0o-58-docs.googleusercontent.com (doc-0o-58-docs.googleusercontent.com)... 74.125.132.132, 2607:f8b0:4001:c00::84\n",
            "Connecting to doc-0o-58-docs.googleusercontent.com (doc-0o-58-docs.googleusercontent.com)|74.125.132.132|:443... connected.\n",
            "HTTP request sent, awaiting response... 200 OK\n",
            "Length: unspecified [application/octet-stream]\n",
            "Saving to: ‘renderer.pkl’\n",
            "\n",
            "renderer.pkl            [   <=>              ]  42.12M  40.7MB/s    in 1.0s    \n",
            "\n",
            "2019-04-18 05:04:51 (40.7 MB/s) - ‘renderer.pkl’ saved [44165821]\n",
            "\n"
          ],
          "name": "stdout"
        }
      ]
    },
    {
      "metadata": {
        "id": "Pfd53Hw2cfaY",
        "colab_type": "code",
        "colab": {
          "base_uri": "https://localhost:8080/",
          "height": 336
        },
        "outputId": "69a73394-db55-4d07-c894-9f679650bac8"
      },
      "cell_type": "code",
      "source": [
        "!wget \"https://drive.google.com/uc?export=download&id=1a3vpKgjCVXHON4P7wodqhCgCMPgg1KeR\" -O actor.pkl"
      ],
      "execution_count": 12,
      "outputs": [
        {
          "output_type": "stream",
          "text": [
            "--2019-04-18 05:10:05--  https://drive.google.com/uc?export=download&id=1a3vpKgjCVXHON4P7wodqhCgCMPgg1KeR\n",
            "Resolving drive.google.com (drive.google.com)... 108.177.111.100, 108.177.111.139, 108.177.111.101, ...\n",
            "Connecting to drive.google.com (drive.google.com)|108.177.111.100|:443... connected.\n",
            "HTTP request sent, awaiting response... 302 Moved Temporarily\n",
            "Location: https://doc-0c-58-docs.googleusercontent.com/docs/securesc/ha0ro937gcuc7l7deffksulhg5h7mbp1/aki5l6qr81fu45pegi67df223pgq125l/1555560000000/10102393604162075786/*/1a3vpKgjCVXHON4P7wodqhCgCMPgg1KeR?e=download [following]\n",
            "Warning: wildcards not supported in HTTP.\n",
            "--2019-04-18 05:10:08--  https://doc-0c-58-docs.googleusercontent.com/docs/securesc/ha0ro937gcuc7l7deffksulhg5h7mbp1/aki5l6qr81fu45pegi67df223pgq125l/1555560000000/10102393604162075786/*/1a3vpKgjCVXHON4P7wodqhCgCMPgg1KeR?e=download\n",
            "Resolving doc-0c-58-docs.googleusercontent.com (doc-0c-58-docs.googleusercontent.com)... 74.125.132.132, 2607:f8b0:4001:c00::84\n",
            "Connecting to doc-0c-58-docs.googleusercontent.com (doc-0c-58-docs.googleusercontent.com)|74.125.132.132|:443... connected.\n",
            "HTTP request sent, awaiting response... 200 OK\n",
            "Length: unspecified [application/octet-stream]\n",
            "Saving to: ‘actor.pkl’\n",
            "\n",
            "actor.pkl               [    <=>             ]  42.82M  33.2MB/s    in 1.3s    \n",
            "\n",
            "2019-04-18 05:10:09 (33.2 MB/s) - ‘actor.pkl’ saved [44898539]\n",
            "\n"
          ],
          "name": "stdout"
        }
      ]
    },
    {
      "metadata": {
        "id": "AVdBrKWREudf",
        "colab_type": "code",
        "colab": {
          "base_uri": "https://localhost:8080/",
          "height": 175
        },
        "outputId": "5490b0e9-4c68-494b-8e0c-c04a6f9a8ce9"
      },
      "cell_type": "code",
      "source": [
        "!pip install https://download.pytorch.org/whl/cu80/torch-0.4.1-cp36-cp36m-linux_x86_64.whl"
      ],
      "execution_count": 9,
      "outputs": [
        {
          "output_type": "stream",
          "text": [
            "Collecting torch==0.4.1 from https://download.pytorch.org/whl/cu80/torch-0.4.1-cp36-cp36m-linux_x86_64.whl\n",
            "\u001b[?25l  Downloading https://download.pytorch.org/whl/cu80/torch-0.4.1-cp36-cp36m-linux_x86_64.whl (483.0MB)\n",
            "\u001b[K    100% |████████████████████████████████| 483.0MB 29kB/s \n",
            "\u001b[31mfastai 1.0.51 has requirement torch>=1.0.0, but you'll have torch 0.4.1 which is incompatible.\u001b[0m\n",
            "\u001b[?25hInstalling collected packages: torch\n",
            "  Found existing installation: torch 1.0.1.post2\n",
            "    Uninstalling torch-1.0.1.post2:\n",
            "      Successfully uninstalled torch-1.0.1.post2\n",
            "Successfully installed torch-0.4.1\n"
          ],
          "name": "stdout"
        }
      ]
    },
    {
      "metadata": {
        "id": "WiaVKOzREvDc",
        "colab_type": "code",
        "colab": {
          "base_uri": "https://localhost:8080/",
          "height": 230
        },
        "outputId": "fa18a96d-fe2c-4469-ebe5-f1e4168310a1"
      },
      "cell_type": "code",
      "source": [
        "!pip install opencv-python==3.4.0.14"
      ],
      "execution_count": 8,
      "outputs": [
        {
          "output_type": "stream",
          "text": [
            "Collecting opencv-python==3.4.0.14\n",
            "\u001b[?25l  Downloading https://files.pythonhosted.org/packages/e6/d1/732afb3a056d7e7f3af08f3fcb67a7c1ceedd6be941f8e3907da0400c36e/opencv_python-3.4.0.14-cp36-cp36m-manylinux1_x86_64.whl (24.8MB)\n",
            "\u001b[K    100% |████████████████████████████████| 24.8MB 1.5MB/s \n",
            "\u001b[?25hRequirement already satisfied: numpy>=1.11.3 in /usr/local/lib/python3.6/dist-packages (from opencv-python==3.4.0.14) (1.16.2)\n",
            "\u001b[31mdopamine-rl 1.0.5 has requirement opencv-python>=3.4.1.15, but you'll have opencv-python 3.4.0.14 which is incompatible.\u001b[0m\n",
            "\u001b[31malbumentations 0.1.12 has requirement imgaug<0.2.7,>=0.2.5, but you'll have imgaug 0.2.8 which is incompatible.\u001b[0m\n",
            "Installing collected packages: opencv-python\n",
            "  Found existing installation: opencv-python 3.4.5.20\n",
            "    Uninstalling opencv-python-3.4.5.20:\n",
            "      Successfully uninstalled opencv-python-3.4.5.20\n",
            "Successfully installed opencv-python-3.4.0.14\n"
          ],
          "name": "stdout"
        }
      ]
    },
    {
      "metadata": {
        "id": "Q37V7JDYlRJw",
        "colab_type": "code",
        "colab": {
          "base_uri": "https://localhost:8080/",
          "height": 34
        },
        "outputId": "9088c68b-b8eb-485b-b135-df92d25c0f36"
      },
      "cell_type": "code",
      "source": [
        "%%writefile baseline/test.py\n",
        "import os\n",
        "import cv2\n",
        "import torch\n",
        "import numpy as np\n",
        "import argparse\n",
        "import torch.nn as nn\n",
        "import torch.nn.functional as F\n",
        "\n",
        "from DRL.actor import *\n",
        "from Renderer.stroke_gen import *\n",
        "from Renderer.model import *\n",
        "\n",
        "device = torch.device(\"cuda\" if torch.cuda.is_available() else \"cpu\")\n",
        "width = 128\n",
        "\n",
        "parser = argparse.ArgumentParser(description='Learning to Paint')\n",
        "parser.add_argument('--max_step', default=40, type=int, help='max length for episode')\n",
        "parser.add_argument('--actor', default='./model/Paint-run1/actor.pkl', type=str, help='Actor model')\n",
        "parser.add_argument('--renderer', default='./renderer.pkl', type=str, help='renderer model')\n",
        "parser.add_argument('--img', default='image/test.png', type=str, help='test image')\n",
        "args = parser.parse_args()\n",
        "\n",
        "T = torch.ones([1, 1, width, width], dtype=torch.float32).to(device)\n",
        "\n",
        "coord = torch.zeros([1, 2, width, width])\n",
        "for i in range(width):\n",
        "    for j in range(width):\n",
        "        coord[0, 0, i, j] = i / (width - 1.)\n",
        "        coord[0, 1, i, j] = j / (width - 1.)\n",
        "coord = coord.to(device) # Coordconv\n",
        "\n",
        "Decoder = FCN()\n",
        "Decoder.load_state_dict(torch.load(args.renderer))\n",
        "\n",
        "def decode(x, canvas): # b * (10 + 3)\n",
        "    x = x.view(-1, 10 + 3)\n",
        "    stroke = 1 - Decoder(x[:, :10])\n",
        "    stroke = stroke.view(-1, 128, 128, 1)\n",
        "    color_stroke = stroke * x[:, -3:].view(-1, 1, 1, 3)\n",
        "    stroke = stroke.permute(0, 3, 1, 2)\n",
        "    color_stroke = color_stroke.permute(0, 3, 1, 2)\n",
        "    stroke = stroke.view(-1, 5, 1, 128, 128)\n",
        "    color_stroke = color_stroke.view(-1, 5, 3, 128, 128)\n",
        "    for i in range(5):\n",
        "        canvas = canvas * (1 - stroke[:, i]) + color_stroke[:, i]\n",
        "    return canvas\n",
        "\n",
        "img = cv2.imread(args.img, cv2.IMREAD_COLOR)\n",
        "img = cv2.resize(img, (width, width))\n",
        "img = np.transpose(img, (2, 0, 1))\n",
        "img = torch.tensor(img).to(device).reshape(1, -1, width, width).float() / 255.\n",
        "actor = ResNet(9, 18, 65) # action_bundle = 5, 65 = 5 * 13\n",
        "actor.load_state_dict(torch.load(args.actor))\n",
        "actor = actor.to(device).eval()\n",
        "Decoder = Decoder.to(device).eval()\n",
        "\n",
        "canvas = torch.zeros([1, 3, width, width]).to(device)\n",
        "output = canvas[0].detach().cpu().numpy()\n",
        "output = np.transpose(output, (1, 2, 0))\n",
        "\n",
        "os.system('mkdir output')\n",
        "cv2.imwrite('output/generated0.png', (output * 255).astype('uint8'))\n",
        "\n",
        "with torch.no_grad():\n",
        "    for i in range(args.max_step):\n",
        "        stepnum = T * i / args.max_step\n",
        "        actions = actor(torch.cat([canvas, img, stepnum, coord], 1))\n",
        "        canvas = decode(actions, canvas)\n",
        "        print('step {}, L2Loss = {}'.format(i, ((canvas - img) ** 2).mean()))\n",
        "        output = canvas[0].detach().cpu().numpy()\n",
        "        output = np.transpose(output, (1, 2, 0))\n",
        "        cv2.imwrite('output/generated'+str(i+1)+'.png', (output * 255).astype('uint8'))"
      ],
      "execution_count": 10,
      "outputs": [
        {
          "output_type": "stream",
          "text": [
            "Overwriting baseline/test.py\n"
          ],
          "name": "stdout"
        }
      ]
    },
    {
      "metadata": {
        "id": "brX4ZlQoc9ss",
        "colab_type": "code",
        "colab": {
          "base_uri": "https://localhost:8080/",
          "height": 3537
        },
        "outputId": "0061d1f7-d7f7-4070-df5f-bf1810a5f586"
      },
      "cell_type": "code",
      "source": [
        "!!python3 baseline/test.py --max_step=200 --actor=actor.pkl --renderer=renderer.pkl --img=image/test.png"
      ],
      "execution_count": 11,
      "outputs": [
        {
          "output_type": "execute_result",
          "data": {
            "text/plain": [
              "['step 0, L2Loss = 0.045089270919561386',\n",
              " 'step 1, L2Loss = 0.03371141850948334',\n",
              " 'step 2, L2Loss = 0.028176510706543922',\n",
              " 'step 3, L2Loss = 0.024365311488509178',\n",
              " 'step 4, L2Loss = 0.02117478847503662',\n",
              " 'step 5, L2Loss = 0.018734076991677284',\n",
              " 'step 6, L2Loss = 0.016785316169261932',\n",
              " 'step 7, L2Loss = 0.01579478569328785',\n",
              " 'step 8, L2Loss = 0.014827128499746323',\n",
              " 'step 9, L2Loss = 0.01387172844260931',\n",
              " 'step 10, L2Loss = 0.013379310257732868',\n",
              " 'step 11, L2Loss = 0.012941889464855194',\n",
              " 'step 12, L2Loss = 0.01246477197855711',\n",
              " 'step 13, L2Loss = 0.011962604708969593',\n",
              " 'step 14, L2Loss = 0.011506915092468262',\n",
              " 'step 15, L2Loss = 0.011168532073497772',\n",
              " 'step 16, L2Loss = 0.011053179390728474',\n",
              " 'step 17, L2Loss = 0.010815302841365337',\n",
              " 'step 18, L2Loss = 0.010565277189016342',\n",
              " 'step 19, L2Loss = 0.01060598623007536',\n",
              " 'step 20, L2Loss = 0.010317322798073292',\n",
              " 'step 21, L2Loss = 0.010211284272372723',\n",
              " 'step 22, L2Loss = 0.010084127075970173',\n",
              " 'step 23, L2Loss = 0.009914887137711048',\n",
              " 'step 24, L2Loss = 0.009845074266195297',\n",
              " 'step 25, L2Loss = 0.009762673638761044',\n",
              " 'step 26, L2Loss = 0.00968293659389019',\n",
              " 'step 27, L2Loss = 0.00956167932599783',\n",
              " 'step 28, L2Loss = 0.00956817902624607',\n",
              " 'step 29, L2Loss = 0.009463255293667316',\n",
              " 'step 30, L2Loss = 0.009411289356648922',\n",
              " 'step 31, L2Loss = 0.009381973184645176',\n",
              " 'step 32, L2Loss = 0.009354920126497746',\n",
              " 'step 33, L2Loss = 0.009195138700306416',\n",
              " 'step 34, L2Loss = 0.009151929058134556',\n",
              " 'step 35, L2Loss = 0.009122807532548904',\n",
              " 'step 36, L2Loss = 0.009135973639786243',\n",
              " 'step 37, L2Loss = 0.00913071259856224',\n",
              " 'step 38, L2Loss = 0.009078357368707657',\n",
              " 'step 39, L2Loss = 0.009062220342457294',\n",
              " 'step 40, L2Loss = 0.009051193483173847',\n",
              " 'step 41, L2Loss = 0.009033119305968285',\n",
              " 'step 42, L2Loss = 0.00900716707110405',\n",
              " 'step 43, L2Loss = 0.0089143430814147',\n",
              " 'step 44, L2Loss = 0.008890553377568722',\n",
              " 'step 45, L2Loss = 0.008837715722620487',\n",
              " 'step 46, L2Loss = 0.008819294162094593',\n",
              " 'step 47, L2Loss = 0.008789689280092716',\n",
              " 'step 48, L2Loss = 0.00881753209978342',\n",
              " 'step 49, L2Loss = 0.008733374066650867',\n",
              " 'step 50, L2Loss = 0.008732859045267105',\n",
              " 'step 51, L2Loss = 0.008712184615433216',\n",
              " 'step 52, L2Loss = 0.008711142465472221',\n",
              " 'step 53, L2Loss = 0.00871188659220934',\n",
              " 'step 54, L2Loss = 0.00868080835789442',\n",
              " 'step 55, L2Loss = 0.008582070469856262',\n",
              " 'step 56, L2Loss = 0.008560102432966232',\n",
              " 'step 57, L2Loss = 0.008447488769888878',\n",
              " 'step 58, L2Loss = 0.008374526165425777',\n",
              " 'step 59, L2Loss = 0.008357987739145756',\n",
              " 'step 60, L2Loss = 0.008353599347174168',\n",
              " 'step 61, L2Loss = 0.008265424519777298',\n",
              " 'step 62, L2Loss = 0.00820924248546362',\n",
              " 'step 63, L2Loss = 0.008197996765375137',\n",
              " 'step 64, L2Loss = 0.008137237280607224',\n",
              " 'step 65, L2Loss = 0.00807159673422575',\n",
              " 'step 66, L2Loss = 0.008060918189585209',\n",
              " 'step 67, L2Loss = 0.008015993051230907',\n",
              " 'step 68, L2Loss = 0.007972481660544872',\n",
              " 'step 69, L2Loss = 0.007790973875671625',\n",
              " 'step 70, L2Loss = 0.007759718224406242',\n",
              " 'step 71, L2Loss = 0.007747293915599585',\n",
              " 'step 72, L2Loss = 0.007663147058337927',\n",
              " 'step 73, L2Loss = 0.007661404088139534',\n",
              " 'step 74, L2Loss = 0.007618131581693888',\n",
              " 'step 75, L2Loss = 0.007563648279756308',\n",
              " 'step 76, L2Loss = 0.007519502192735672',\n",
              " 'step 77, L2Loss = 0.007503197994083166',\n",
              " 'step 78, L2Loss = 0.007454338017851114',\n",
              " 'step 79, L2Loss = 0.007434793282300234',\n",
              " 'step 80, L2Loss = 0.0074266172014176846',\n",
              " 'step 81, L2Loss = 0.007416825275868177',\n",
              " 'step 82, L2Loss = 0.00741638382896781',\n",
              " 'step 83, L2Loss = 0.007432396057993174',\n",
              " 'step 84, L2Loss = 0.007431652396917343',\n",
              " 'step 85, L2Loss = 0.007424498442560434',\n",
              " 'step 86, L2Loss = 0.007422247435897589',\n",
              " 'step 87, L2Loss = 0.007399797439575195',\n",
              " 'step 88, L2Loss = 0.007383989170193672',\n",
              " 'step 89, L2Loss = 0.007374681532382965',\n",
              " 'step 90, L2Loss = 0.007345649879425764',\n",
              " 'step 91, L2Loss = 0.00735477777197957',\n",
              " 'step 92, L2Loss = 0.007348054554313421',\n",
              " 'step 93, L2Loss = 0.007350806146860123',\n",
              " 'step 94, L2Loss = 0.00733183091506362',\n",
              " 'step 95, L2Loss = 0.0073304809629917145',\n",
              " 'step 96, L2Loss = 0.007328726816922426',\n",
              " 'step 97, L2Loss = 0.007334299385547638',\n",
              " 'step 98, L2Loss = 0.007352462038397789',\n",
              " 'step 99, L2Loss = 0.007382949348539114',\n",
              " 'step 100, L2Loss = 0.007362088188529015',\n",
              " 'step 101, L2Loss = 0.0072963605634868145',\n",
              " 'step 102, L2Loss = 0.007297305855900049',\n",
              " 'step 103, L2Loss = 0.007261229213327169',\n",
              " 'step 104, L2Loss = 0.007249551359564066',\n",
              " 'step 105, L2Loss = 0.007251325529068708',\n",
              " 'step 106, L2Loss = 0.007246652152389288',\n",
              " 'step 107, L2Loss = 0.007253219839185476',\n",
              " 'step 108, L2Loss = 0.007242296356707811',\n",
              " 'step 109, L2Loss = 0.00725938193500042',\n",
              " 'step 110, L2Loss = 0.007193834986537695',\n",
              " 'step 111, L2Loss = 0.0071938554756343365',\n",
              " 'step 112, L2Loss = 0.007166389375925064',\n",
              " 'step 113, L2Loss = 0.007173267658799887',\n",
              " 'step 114, L2Loss = 0.0071706525050103664',\n",
              " 'step 115, L2Loss = 0.007147799711674452',\n",
              " 'step 116, L2Loss = 0.0071277073584496975',\n",
              " 'step 117, L2Loss = 0.007131960708647966',\n",
              " 'step 118, L2Loss = 0.007108053658157587',\n",
              " 'step 119, L2Loss = 0.007106227334588766',\n",
              " 'step 120, L2Loss = 0.007066455204039812',\n",
              " 'step 121, L2Loss = 0.0070627592504024506',\n",
              " 'step 122, L2Loss = 0.00705978088080883',\n",
              " 'step 123, L2Loss = 0.007053133565932512',\n",
              " 'step 124, L2Loss = 0.007047158200293779',\n",
              " 'step 125, L2Loss = 0.007048309314996004',\n",
              " 'step 126, L2Loss = 0.007048066705465317',\n",
              " 'step 127, L2Loss = 0.00706038624048233',\n",
              " 'step 128, L2Loss = 0.007072851527482271',\n",
              " 'step 129, L2Loss = 0.00705114146694541',\n",
              " 'step 130, L2Loss = 0.00707041472196579',\n",
              " 'step 131, L2Loss = 0.007032519206404686',\n",
              " 'step 132, L2Loss = 0.007037898991256952',\n",
              " 'step 133, L2Loss = 0.007057617884129286',\n",
              " 'step 134, L2Loss = 0.007041286677122116',\n",
              " 'step 135, L2Loss = 0.007015032693743706',\n",
              " 'step 136, L2Loss = 0.007010926958173513',\n",
              " 'step 137, L2Loss = 0.006978822872042656',\n",
              " 'step 138, L2Loss = 0.006980779115110636',\n",
              " 'step 139, L2Loss = 0.006977675016969442',\n",
              " 'step 140, L2Loss = 0.00697932206094265',\n",
              " 'step 141, L2Loss = 0.006977888289839029',\n",
              " 'step 142, L2Loss = 0.006982253398746252',\n",
              " 'step 143, L2Loss = 0.006988262291997671',\n",
              " 'step 144, L2Loss = 0.006985500920563936',\n",
              " 'step 145, L2Loss = 0.006991736125200987',\n",
              " 'step 146, L2Loss = 0.007007582578808069',\n",
              " 'step 147, L2Loss = 0.006986409425735474',\n",
              " 'step 148, L2Loss = 0.006989522371441126',\n",
              " 'step 149, L2Loss = 0.006976013537496328',\n",
              " 'step 150, L2Loss = 0.0069375247694551945',\n",
              " 'step 151, L2Loss = 0.006928956136107445',\n",
              " 'step 152, L2Loss = 0.0069226534105837345',\n",
              " 'step 153, L2Loss = 0.006881179753690958',\n",
              " 'step 154, L2Loss = 0.006885008420795202',\n",
              " 'step 155, L2Loss = 0.006837655324488878',\n",
              " 'step 156, L2Loss = 0.006822551134973764',\n",
              " 'step 157, L2Loss = 0.006816907320171595',\n",
              " 'step 158, L2Loss = 0.00679442984983325',\n",
              " 'step 159, L2Loss = 0.006792124826461077',\n",
              " 'step 160, L2Loss = 0.006763965357095003',\n",
              " 'step 161, L2Loss = 0.006757315248250961',\n",
              " 'step 162, L2Loss = 0.006733452435582876',\n",
              " 'step 163, L2Loss = 0.006704906467348337',\n",
              " 'step 164, L2Loss = 0.006686571519821882',\n",
              " 'step 165, L2Loss = 0.006668942514806986',\n",
              " 'step 166, L2Loss = 0.006661965977400541',\n",
              " 'step 167, L2Loss = 0.006655605975538492',\n",
              " 'step 168, L2Loss = 0.006641797721385956',\n",
              " 'step 169, L2Loss = 0.006628085393458605',\n",
              " 'step 170, L2Loss = 0.00662980554625392',\n",
              " 'step 171, L2Loss = 0.006622171029448509',\n",
              " 'step 172, L2Loss = 0.006611385848373175',\n",
              " 'step 173, L2Loss = 0.006604671478271484',\n",
              " 'step 174, L2Loss = 0.0066112130880355835',\n",
              " 'step 175, L2Loss = 0.006596617866307497',\n",
              " 'step 176, L2Loss = 0.006598764564841986',\n",
              " 'step 177, L2Loss = 0.006588289048522711',\n",
              " 'step 178, L2Loss = 0.006595929618924856',\n",
              " 'step 179, L2Loss = 0.006603224668651819',\n",
              " 'step 180, L2Loss = 0.006609318312257528',\n",
              " 'step 181, L2Loss = 0.006614437326788902',\n",
              " 'step 182, L2Loss = 0.0066102370619773865',\n",
              " 'step 183, L2Loss = 0.006588929798454046',\n",
              " 'step 184, L2Loss = 0.006590673234313726',\n",
              " 'step 185, L2Loss = 0.006578957661986351',\n",
              " 'step 186, L2Loss = 0.006562505383044481',\n",
              " 'step 187, L2Loss = 0.006562285125255585',\n",
              " 'step 188, L2Loss = 0.006558388005942106',\n",
              " 'step 189, L2Loss = 0.006537039298564196',\n",
              " 'step 190, L2Loss = 0.006536460947245359',\n",
              " 'step 191, L2Loss = 0.006534089799970388',\n",
              " 'step 192, L2Loss = 0.006531475577503443',\n",
              " 'step 193, L2Loss = 0.006520718336105347',\n",
              " 'step 194, L2Loss = 0.006513906642794609',\n",
              " 'step 195, L2Loss = 0.006484992802143097',\n",
              " 'step 196, L2Loss = 0.006476173643022776',\n",
              " 'step 197, L2Loss = 0.006462716031819582',\n",
              " 'step 198, L2Loss = 0.006434878800064325',\n",
              " 'step 199, L2Loss = 0.006437383126467466']"
            ]
          },
          "metadata": {
            "tags": []
          },
          "execution_count": 11
        }
      ]
    },
    {
      "metadata": {
        "id": "tLM4U6F0_yjV",
        "colab_type": "code",
        "colab": {}
      },
      "cell_type": "code",
      "source": [
        "!ffmpeg -r 10 -f image2 -i output/generated%d.png -s 256x256 -vcodec mpeg4 video.mp4"
      ],
      "execution_count": 0,
      "outputs": []
    },
    {
      "metadata": {
        "id": "d2mAkgRjwwuf",
        "colab_type": "text"
      },
      "cell_type": "markdown",
      "source": [
        "Training"
      ]
    },
    {
      "metadata": {
        "id": "_-p0NhqyTqO_",
        "colab_type": "code",
        "colab": {}
      },
      "cell_type": "code",
      "source": [
        "!mkdir data"
      ],
      "execution_count": 0,
      "outputs": []
    },
    {
      "metadata": {
        "id": "XXAV9RwkTwKh",
        "colab_type": "code",
        "colab": {}
      },
      "cell_type": "code",
      "source": [
        "cd data"
      ],
      "execution_count": 0,
      "outputs": []
    },
    {
      "metadata": {
        "colab_type": "code",
        "id": "IzZUVjdrET2G",
        "colab": {}
      },
      "cell_type": "code",
      "source": [
        "!gdown https://drive.google.com/uc?id=0B7EVK8r0v71pZjFTYXZWM3FlRnM"
      ],
      "execution_count": 0,
      "outputs": []
    },
    {
      "metadata": {
        "colab_type": "code",
        "id": "zgguAW3eETVd",
        "colab": {}
      },
      "cell_type": "code",
      "source": [
        "!unzip img_align_celeba.zip"
      ],
      "execution_count": 0,
      "outputs": []
    },
    {
      "metadata": {
        "id": "XBH--DY-sK8V",
        "colab_type": "code",
        "colab": {}
      },
      "cell_type": "code",
      "source": [
        "!rm img_align_celeba.zip"
      ],
      "execution_count": 0,
      "outputs": []
    },
    {
      "metadata": {
        "id": "u6mVpjvBvzrb",
        "colab_type": "code",
        "colab": {}
      },
      "cell_type": "code",
      "source": [
        "cd .."
      ],
      "execution_count": 0,
      "outputs": []
    },
    {
      "metadata": {
        "id": "-PYJVt8pc6BP",
        "colab_type": "code",
        "colab": {}
      },
      "cell_type": "code",
      "source": [
        "!python3 baseline/train_renderer.py"
      ],
      "execution_count": 0,
      "outputs": []
    },
    {
      "metadata": {
        "id": "VZWjNmD23gKm",
        "colab_type": "code",
        "colab": {}
      },
      "cell_type": "code",
      "source": [
        "!pip install tensorboardX"
      ],
      "execution_count": 0,
      "outputs": []
    },
    {
      "metadata": {
        "id": "ehnzhWn9GG4I",
        "colab_type": "code",
        "colab": {}
      },
      "cell_type": "code",
      "source": [
        "%%writefile baseline/env.py\n",
        "import sys\n",
        "import json\n",
        "import torch\n",
        "import numpy as np\n",
        "import argparse\n",
        "import torchvision.transforms as transforms\n",
        "import cv2\n",
        "from DRL.ddpg import decode\n",
        "from utils.util import *\n",
        "from PIL import Image\n",
        "from torchvision import transforms, utils\n",
        "device = torch.device(\"cuda\" if torch.cuda.is_available() else \"cpu\")\n",
        "\n",
        "aug = transforms.Compose(\n",
        "            [transforms.ToPILImage(),\n",
        "             transforms.RandomHorizontalFlip(),\n",
        "             ])\n",
        "\n",
        "width = 128\n",
        "convas_area = width * width\n",
        "\n",
        "img_train = []\n",
        "img_test = []\n",
        "train_num = 0\n",
        "test_num = 0\n",
        "\n",
        "class Paint:\n",
        "    def __init__(self, batch_size, max_step):\n",
        "        self.batch_size = batch_size\n",
        "        self.max_step = max_step\n",
        "        self.action_space = (13)\n",
        "        self.observation_space = (self.batch_size, width, width, 7)\n",
        "        self.test = False\n",
        "        \n",
        "    def load_data(self):\n",
        "        # CelebA\n",
        "        global train_num, test_num\n",
        "        for i in range(200000):\n",
        "            img_id = '%06d' % (i + 1)\n",
        "            try:\n",
        "                img = cv2.imread('./data/img_align_celeba/' + img_id + '.jpg', cv2.IMREAD_UNCHANGED)\n",
        "                img = cv2.resize(img, (width, width))\n",
        "                if i > 2000:                \n",
        "                    train_num += 1\n",
        "                    img_train.append(img)\n",
        "                else:\n",
        "                    test_num += 1\n",
        "                    img_test.append(img)\n",
        "            finally:\n",
        "                if (i + 1) % 10000 == 0:                    \n",
        "                    print('loaded {} images'.format(i + 1))\n",
        "        print('finish loading data, {} training images, {} testing images'.format(str(train_num), str(test_num)))\n",
        "        \n",
        "    def pre_data(self, id, test):\n",
        "        if test:\n",
        "            img = img_test[id]\n",
        "        else:\n",
        "            img = img_train[id]\n",
        "        if not test:\n",
        "            img = aug(img)\n",
        "        img = np.asarray(img)\n",
        "        return np.transpose(img, (2, 0, 1))\n",
        "    \n",
        "    def reset(self, test=False, begin_num=False):\n",
        "        self.test = test\n",
        "        self.imgid = [0] * self.batch_size\n",
        "        self.gt = torch.zeros([self.batch_size, 3, width, width], dtype=torch.uint8).to(device)\n",
        "        for i in range(self.batch_size):\n",
        "            if test:\n",
        "                id = (i + begin_num)  % test_num\n",
        "            else:\n",
        "                id = np.random.randint(train_num)\n",
        "            self.imgid[i] = id\n",
        "            self.gt[i] = torch.tensor(self.pre_data(id, test))\n",
        "        self.tot_reward = ((self.gt.float() / 255) ** 2).mean(1).mean(1).mean(1)\n",
        "        self.stepnum = 0\n",
        "        self.canvas = torch.zeros([self.batch_size, 3, width, width], dtype=torch.uint8).to(device)\n",
        "        self.lastdis = self.ini_dis = self.cal_dis()\n",
        "        return self.observation()\n",
        "    \n",
        "    def observation(self):\n",
        "        # canvas B * 3 * width * width\n",
        "        # gt B * 3 * width * width\n",
        "        # T B * 1 * width * width\n",
        "        ob = []\n",
        "        T = torch.ones([self.batch_size, 1, width, width], dtype=torch.uint8) * self.stepnum\n",
        "        return torch.cat((self.canvas, self.gt, T.to(device)), 1) # canvas, img, T\n",
        "\n",
        "    def cal_trans(self, s, t):\n",
        "        return (s.transpose(0, 3) * t).transpose(0, 3)\n",
        "    \n",
        "    def step(self, action):\n",
        "        self.canvas = (decode(action, self.canvas.float() / 255) * 255).byte()\n",
        "        self.stepnum += 1\n",
        "        ob = self.observation()\n",
        "        done = (self.stepnum == self.max_step)\n",
        "        reward = self.cal_reward() # np.array([0.] * self.batch_size)\n",
        "        return ob.detach(), reward, np.array([done] * self.batch_size), None\n",
        "\n",
        "    def cal_dis(self):\n",
        "        return (((self.canvas.float() - self.gt.float()) / 255) ** 2).mean(1).mean(1).mean(1)\n",
        "    \n",
        "    def cal_reward(self):\n",
        "        dis = self.cal_dis()\n",
        "        reward = (self.lastdis - dis) / (self.ini_dis + 1e-8)\n",
        "        self.lastdis = dis\n",
        "        return to_numpy(reward)\n"
      ],
      "execution_count": 0,
      "outputs": []
    },
    {
      "metadata": {
        "id": "0kwVmo6yv1w3",
        "colab_type": "code",
        "colab": {}
      },
      "cell_type": "code",
      "source": [
        "!python3 baseline/train.py --max_step=200 --debug --batch_size=96"
      ],
      "execution_count": 0,
      "outputs": []
    }
  ]
}